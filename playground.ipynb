{
 "cells": [
  {
   "cell_type": "code",
   "execution_count": 2,
   "metadata": {},
   "outputs": [],
   "source": [
    "# Requirements for storage:\n",
    "# Task, deadline, time expected, priority, time spent, tag"
   ]
  },
  {
   "cell_type": "code",
   "execution_count": null,
   "metadata": {},
   "outputs": [],
   "source": []
  },
  {
   "cell_type": "code",
   "execution_count": 6,
   "metadata": {},
   "outputs": [],
   "source": [
    "import pandas as pd\n",
    "\n",
    "class Task:\n",
    "    def __init__(self, task, deadline, time_expected, priority, time_spent, tag):\n",
    "        self.task = task\n",
    "        self.deadline = deadline\n",
    "        self.time_expected = time_expected\n",
    "        self.priority = priority\n",
    "        self.time_spent = time_spent\n",
    "        self.tag = tag\n",
    "\n",
    "    def __str__(self):\n",
    "        return f\"{self.task} {self.deadline} {self.time_expected} {self.priority} {self.time_spent} {self.tag}\""
   ]
  },
  {
   "cell_type": "code",
   "execution_count": 10,
   "metadata": {},
   "outputs": [
    {
     "name": "stdout",
     "output_type": "stream",
     "text": [
      "1. Create a task\n",
      "2. View tasks\n",
      "3. Exit\n",
      "1. Create a task\n",
      "2. View tasks\n",
      "3. Exit\n",
      "     task   deadline time_expected priority time_spent     tag\n",
      "0  doctor 2024-02-12        0 days        5     0 days  health\n"
     ]
    }
   ],
   "source": [
    "# Create a IO to create a task and add to dataframe\n",
    "def create_task():\n",
    "    task = input(\"Enter the task: \")\n",
    "    deadline = input(\"Enter the deadline: \")\n",
    "    time_expected = input(\"Enter the time expected: \")\n",
    "    priority = input(\"Enter the priority: \")\n",
    "    time_spent = input(\"Enter the time spent: \")\n",
    "    tag = input(\"Enter the tag: \")\n",
    "    return Task(task, deadline, time_expected, priority, time_spent, tag)\n",
    "\n",
    "def main():\n",
    "    tasks = []\n",
    "    while True:\n",
    "        print(\"1. Create a task\")\n",
    "        print(\"2. View tasks\")\n",
    "        print(\"3. Exit\")\n",
    "        choice = input(\"Enter your choice: \")\n",
    "        if choice == \"1\":\n",
    "            tasks.append(create_task())\n",
    "        elif choice == \"2\":\n",
    "            for task in tasks:\n",
    "                print(task)\n",
    "        elif choice == \"3\":\n",
    "            break\n",
    "        else:\n",
    "            print(\"Invalid choice\")\n",
    "    # convert to df\n",
    "    df = pd.DataFrame([vars(task) for task in tasks])\n",
    "    df[\"deadline\"] = pd.to_datetime(df[\"deadline\"])\n",
    "    df[\"time_expected\"] = pd.to_timedelta(df[\"time_expected\"])\n",
    "    df[\"time_spent\"] = pd.to_timedelta(df[\"time_spent\"])\n",
    "    \n",
    "    print(df)\n",
    "\n",
    "if __name__ == \"__main__\":\n",
    "    main()"
   ]
  },
  {
   "cell_type": "code",
   "execution_count": null,
   "metadata": {},
   "outputs": [],
   "source": []
  }
 ],
 "metadata": {
  "kernelspec": {
   "display_name": "Python 3",
   "language": "python",
   "name": "python3"
  },
  "language_info": {
   "codemirror_mode": {
    "name": "ipython",
    "version": 3
   },
   "file_extension": ".py",
   "mimetype": "text/x-python",
   "name": "python",
   "nbconvert_exporter": "python",
   "pygments_lexer": "ipython3",
   "version": "3.11.5"
  }
 },
 "nbformat": 4,
 "nbformat_minor": 2
}
